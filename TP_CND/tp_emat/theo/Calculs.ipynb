{
 "cells": [
  {
   "cell_type": "markdown",
   "metadata": {},
   "source": [
    "# Détermination des vitesses de propagation\n",
    "\n",
    "Dans l'aluminium :\n",
    "\n",
    "$$\\rho = 2700 kg\\cdot m^{-3}$$\n",
    "$$\\nu = 0.35$$\n",
    "$$E = 70\\cdot 10^9$$\n",
    "\n",
    "On a ainsi (dans un solide isotrop, cf. cours de C Potel) :\n",
    "\n",
    "$$v_L = \\sqrt{\\frac{\\lambda + 2\\mu}{\\rho}}$$\n",
    "$$v_T = \\sqrt{\\frac{\\mu}{\\rho}}$$\n",
    "\n",
    "où $\\lambda$ et $\\mu$ sont les coefficients de Lamé tels que :\n",
    "\n",
    "$$\\lambda = \\frac{E\\nu}{(1+\\nu)(1-2\\nu)}$$\n",
    "$$\\mu = \\frac{E}{2(1+\\nu)}$$"
   ]
  },
  {
   "cell_type": "code",
   "execution_count": 38,
   "metadata": {
    "collapsed": false
   },
   "outputs": [],
   "source": [
    "from math import *\n",
    "\n",
    "class Materiau:\n",
    "    \n",
    "    def __init__(self, name, rho, E, nu):\n",
    "        \n",
    "        self.name = name\n",
    "        \n",
    "        self.rho = rho\n",
    "        self.E = E\n",
    "        self.nu = nu\n",
    "        \n",
    "        self._lame()\n",
    "        self._speeds()\n",
    "        \n",
    "    def _lame(self):\n",
    "        \n",
    "        self.lamda = self.E*self.nu/((1+self.nu)*(1-2*self.nu))\n",
    "        self.mu = self.E/(2*(1+self.nu))\n",
    "    \n",
    "    def _speeds(self):\n",
    "        self.vL = sqrt((self.lamda+2*self.mu)/self.rho)\n",
    "        self.VT = sqrt(self.mu/self.rho)\n",
    "        \n",
    "    def __str__(self):\n",
    "        return \"\"\"{name}\n",
    "\n",
    "    Density:  {rho} kg/m3\n",
    "    Young Modulus:{E:2.3e} Pa\n",
    "    Poisson Ratio:{nu}\n",
    "    \n",
    "    Lamé Coeff:\n",
    "        Lambda: {lamda} SI\n",
    "        Mu:{mu} SI\n",
    "        \n",
    "    Waves speeds:\n",
    "        LW : {vL:5.0f}m/s\n",
    "        TW : {vT:5.0f}m/s\"\"\".format(\n",
    "                name=self.name,\n",
    "                rho=self.rho,\n",
    "                E=self.E,\n",
    "                nu=self.nu,\n",
    "                lamda=self.lamda,\n",
    "                mu=self.mu,\n",
    "                vL=round(self.vL),\n",
    "                vT=round(self.VT))\n"
   ]
  },
  {
   "cell_type": "code",
   "execution_count": 39,
   "metadata": {
    "collapsed": true
   },
   "outputs": [],
   "source": [
    "alu = Materiau(\"Aluminium\", 2700, 70e9, 0.35)\n"
   ]
  },
  {
   "cell_type": "code",
   "execution_count": 40,
   "metadata": {
    "collapsed": false
   },
   "outputs": [
    {
     "name": "stdout",
     "output_type": "stream",
     "text": [
      "Aluminium\n",
      "\n",
      "    Density:  2700 kg/m3\n",
      "    Young Modulus:7.000e+10 Pa\n",
      "    Poisson Ratio:0.35\n",
      "    \n",
      "    Lamé Coeff:\n",
      "        Lambda: 60493827160.49381 SI\n",
      "        Mu:25925925925.925922 SI\n",
      "        \n",
      "    Waves speeds:\n",
      "        LW :  6451m/s\n",
      "        TW :  3099m/s\n"
     ]
    }
   ],
   "source": [
    "print(alu)"
   ]
  },
  {
   "cell_type": "code",
   "execution_count": null,
   "metadata": {
    "collapsed": true
   },
   "outputs": [],
   "source": []
  }
 ],
 "metadata": {
  "kernelspec": {
   "display_name": "Python 3",
   "language": "python",
   "name": "python3"
  },
  "language_info": {
   "codemirror_mode": {
    "name": "ipython",
    "version": 3
   },
   "file_extension": ".py",
   "mimetype": "text/x-python",
   "name": "python",
   "nbconvert_exporter": "python",
   "pygments_lexer": "ipython3",
   "version": "3.5.1"
  }
 },
 "nbformat": 4,
 "nbformat_minor": 0
}
