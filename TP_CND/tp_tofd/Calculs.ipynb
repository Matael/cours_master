{
 "cells": [
  {
   "cell_type": "code",
   "execution_count": null,
   "metadata": {
    "collapsed": true
   },
   "outputs": [],
   "source": [
    "from math import *"
   ]
  },
  {
   "cell_type": "markdown",
   "metadata": {},
   "source": [
    "Calculs liés aux angles & cie\n",
    "============================="
   ]
  },
  {
   "cell_type": "markdown",
   "metadata": {},
   "source": [
    "Données\n",
    "--------\n",
    "\n",
    "D'après la documentation du sabot : \n",
    "\n",
    "$$\\theta_{R_L} = 70\\deg$$\n",
    "\n",
    "dans l'acier.\n",
    "\n",
    "On a :\n",
    "\n",
    "- $v_L = 5900m\\cdot s^{-1}$ dans l'acier\n",
    "- $v_T = 3200m\\cdot s^{-1}$ dans l'acier\n",
    "- $\\tilde{v_L} = 2700m\\cdot s^{-1}$ dans le plexi\n",
    "- $\\tilde{v_T} = 1100m\\cdot s^{-1}$ dans le plexi\n",
    "\n",
    "Angles critiques\n",
    "-------------------\n",
    "\n",
    "Relation de Snell-Descartes :\n",
    "\n",
    "$$\\frac{\\sin\\theta_1}{v_1} = \\frac{\\sin\\theta_2}{v_2}$$\n",
    "\n",
    "Pour l'onde longitudinale  :\n",
    "\n",
    "Angle critique $\\Rightarrow$ $\\theta_2 = 90\\deg \\Rightarrow \\sin\\theta_2 = 1$ :\n",
    "\n",
    "$$\\theta_{crit_L} = \\arcsin\\left(\\frac{\\tilde{v_L}}{v_L}\\right)$$\n",
    "\n",
    "Pour l'onde transversale :\n",
    "\n",
    "$$\\theta_{crit_T} = \\arcsin\\left(\\frac{\\tilde{v_L}}{v_T}\\right)$$"
   ]
  },
  {
   "cell_type": "code",
   "execution_count": null,
   "metadata": {
    "collapsed": false
   },
   "outputs": [],
   "source": [
    "vl = 5900\n",
    "vt = 3200\n",
    "vl_tilde = 2700\n",
    "vt_tilde = 1100\n",
    "\n",
    "todeg = lambda _: _/pi*180\n",
    "torad = lambda _: _/180*pi\n",
    "\n",
    "thetac_L = todeg(asin(vl_tilde/vl))\n",
    "thetac_T = todeg(asin(vl_tilde/vt))\n",
    "\n",
    "print('thetac_L = {}'.format(thetac_L))\n",
    "print('thetac_T = {}'.format(thetac_T))"
   ]
  },
  {
   "cell_type": "markdown",
   "metadata": {},
   "source": [
    "Angles incidents et réfractés\n",
    "-----------------\n",
    "\n",
    "On connait l'angle réfracté pour l'onde longi (cf doc du sabot). On retrouve l'angle d'incidence :\n",
    "\n",
    "$$\\frac{\\sin\\theta_I}{\\tilde{v_L}} = \\frac{\\sin\\theta_{R_L}}{v_L} \\Leftrightarrow \\theta_I = \\arcsin\\left(\\frac{\\tilde{v_L}}{v_L}sin\\theta_{R_L}\\right)$$\n"
   ]
  },
  {
   "cell_type": "code",
   "execution_count": null,
   "metadata": {
    "collapsed": false
   },
   "outputs": [],
   "source": [
    "theta_RL = 70;\n",
    "theta_i = todeg(asin(vl_tilde/vl*sin(torad(theta_RL))))\n",
    "print('theta_i = {}'.format(theta_i))"
   ]
  },
  {
   "cell_type": "markdown",
   "metadata": {},
   "source": [
    "On est en deçà du premier angle critique : **des ondes longi et transverses sont générées dans l'acier**.\n",
    "\n",
    "Angles des ondes transverses\n",
    "------------------------\n",
    "\n",
    "Toujours d'après Snell-Descartes :\n",
    "\n",
    "$$\\theta_{R_T} = \\arcsin\\left(\\frac{v_T}{\\tilde{v_L}}\\sin\\theta_I\\right)$$"
   ]
  },
  {
   "cell_type": "code",
   "execution_count": null,
   "metadata": {
    "collapsed": false
   },
   "outputs": [],
   "source": [
    "theta_RT = todeg(asin(vt/vl_tilde*sin(torad(theta_i))))\n",
    "print('theta_RT = {}'.format(theta_RT))"
   ]
  },
  {
   "cell_type": "markdown",
   "metadata": {},
   "source": [
    "Extraction d'infos des .utdata\n",
    "================"
   ]
  },
  {
   "cell_type": "code",
   "execution_count": null,
   "metadata": {
    "collapsed": false
   },
   "outputs": [],
   "source": [
    "from bs4 import BeautifulSoup"
   ]
  },
  {
   "cell_type": "code",
   "execution_count": null,
   "metadata": {
    "collapsed": false
   },
   "outputs": [],
   "source": [
    "with open('MES1PUBLI.xml') as fh:\n",
    "    soup = BeautifulSoup(fh.read(), 'html.parser')\n"
   ]
  },
  {
   "cell_type": "code",
   "execution_count": null,
   "metadata": {
    "collapsed": false,
    "scrolled": true
   },
   "outputs": [],
   "source": [
    "soup"
   ]
  },
  {
   "cell_type": "markdown",
   "metadata": {
    "collapsed": true
   },
   "source": [
    "Calcul des distances et temps de vol théoriques\n",
    "======================"
   ]
  },
  {
   "cell_type": "code",
   "execution_count": 23,
   "metadata": {
    "collapsed": true
   },
   "outputs": [],
   "source": [
    "from math import *\n",
    "\n",
    "todeg = lambda _: _/pi*180\n",
    "torad = lambda _: _/180*pi\n",
    "\n",
    "class Plate:\n",
    "    \n",
    "    def __init__(self, thickness, vl, vt):\n",
    "        \n",
    "        self.thickness = thickness\n",
    "        self.speed = {'l': vl, 't': vt}\n",
    "        self.half_d = dict()\n",
    "        self.tof_dict = {'l':{}, 't':{}}\n",
    "\n",
    "        \n",
    "    def half_dist(self,theta):\n",
    "        \n",
    "        if not self.half_d.get(theta):\n",
    "            self.half_d[theta] = self.thickness/cos(torad(theta))    \n",
    "        return self.half_d.get(theta)\n",
    "    \n",
    "    def tof(self, theta, w_type):\n",
    "        \n",
    "        if not self.tof_dict[w_type].get(theta):\n",
    "            self.tof_dict[w_type][theta] = 2*self.half_dist(theta)/self.speed[w_type]\n",
    "        return self.tof_dict[w_type].get(theta)\n",
    "    \n",
    "        \n",
    "        "
   ]
  },
  {
   "cell_type": "code",
   "execution_count": 29,
   "metadata": {
    "collapsed": false
   },
   "outputs": [
    {
     "name": "stdout",
     "output_type": "stream",
     "text": [
      "Longi => 13.2149µs\n",
      "Transverse => 9.6816µs\n"
     ]
    }
   ],
   "source": [
    "vl = 5900\n",
    "vt = 3200\n",
    "\n",
    "SPlate = Plate(2/3*20e-3, vl, vt)\n",
    "print('Longi => {:1.4f}µs'.format(SPlate.tof(70, 'l')*1e6))\n",
    "print('Transverse => {:1.4f}µs'.format(SPlate.tof(30.6, 't')*1e6))"
   ]
  },
  {
   "cell_type": "code",
   "execution_count": null,
   "metadata": {
    "collapsed": true
   },
   "outputs": [],
   "source": []
  }
 ],
 "metadata": {
  "kernelspec": {
   "display_name": "Python 3",
   "language": "python",
   "name": "python3"
  },
  "language_info": {
   "codemirror_mode": {
    "name": "ipython",
    "version": 3
   },
   "file_extension": ".py",
   "mimetype": "text/x-python",
   "name": "python",
   "nbconvert_exporter": "python",
   "pygments_lexer": "ipython3",
   "version": "3.5.1"
  }
 },
 "nbformat": 4,
 "nbformat_minor": 0
}
