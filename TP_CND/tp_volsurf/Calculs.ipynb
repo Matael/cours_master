{
 "cells": [
  {
   "cell_type": "markdown",
   "metadata": {},
   "source": [
    "# Ondes de volume - Ondes de surface"
   ]
  },
  {
   "cell_type": "code",
   "execution_count": 13,
   "metadata": {
    "collapsed": true
   },
   "outputs": [],
   "source": [
    "from math import *\n",
    "\n",
    "class Materiau:\n",
    "    \n",
    "    def __init__(self, name, rho, E, nu):\n",
    "        \n",
    "        self.name = name\n",
    "        \n",
    "        self.rho = rho\n",
    "        self.E = E\n",
    "        self.nu = nu\n",
    "        \n",
    "        self._lame()\n",
    "        self._speeds()\n",
    "        \n",
    "    def _lame(self):\n",
    "        \n",
    "        self.lamda = self.E*self.nu/((1+self.nu)*(1-2*self.nu))\n",
    "        self.mu = self.E/(2*(1+self.nu))\n",
    "    \n",
    "    def _speeds(self):\n",
    "        self.vL = sqrt((self.lamda+2*self.mu)/self.rho)\n",
    "        self.vT = sqrt(self.mu/self.rho)\n",
    "        \n",
    "    def __str__(self):\n",
    "        return \"\"\"{name}\n",
    "\n",
    "    Density:  {rho} kg/m3\n",
    "    Young Modulus:{E:2.3e} Pa\n",
    "    Poisson Ratio:{nu}\n",
    "    \n",
    "    Lamé Coeff:\n",
    "        Lambda: {lamda} SI\n",
    "        Mu:{mu} SI\n",
    "        \n",
    "    Waves speeds:\n",
    "        LW : {vL:5.0f}m/s\n",
    "        TW : {vT:5.0f}m/s\"\"\".format(\n",
    "                name=self.name,\n",
    "                rho=self.rho,\n",
    "                E=self.E,\n",
    "                nu=self.nu,\n",
    "                lamda=self.lamda,\n",
    "                mu=self.mu,\n",
    "                vL=round(self.vL),\n",
    "                vT=round(self.vT))\n"
   ]
  },
  {
   "cell_type": "code",
   "execution_count": 14,
   "metadata": {
    "collapsed": true
   },
   "outputs": [],
   "source": [
    "alu = Materiau(\"Aluminium\", 2700, 70e9, 0.35)\n",
    "\n",
    "plaque = {'thn': 20e-3,'mat': alu}"
   ]
  },
  {
   "cell_type": "markdown",
   "metadata": {},
   "source": [
    "## Angles critiques"
   ]
  },
  {
   "cell_type": "code",
   "execution_count": 15,
   "metadata": {
    "collapsed": true
   },
   "outputs": [],
   "source": [
    "plexi = {'vL': 2700, 'vT': 1100}"
   ]
  },
  {
   "cell_type": "code",
   "execution_count": 16,
   "metadata": {
    "collapsed": false
   },
   "outputs": [
    {
     "name": "stdout",
     "output_type": "stream",
     "text": [
      "thetac_L = 24.74429965766972\n",
      "thetac_T = 60.612589582404944\n"
     ]
    }
   ],
   "source": [
    "todeg = lambda _: _/pi*180\n",
    "torad = lambda _: _/180*pi\n",
    "\n",
    "thetac_L = todeg(asin(plexi['vL']/alu.vL))\n",
    "thetac_T = todeg(asin(plexi['vL']/alu.vT))\n",
    "\n",
    "print('thetac_L = {}'.format(thetac_L))\n",
    "print('thetac_T = {}'.format(thetac_T))"
   ]
  },
  {
   "cell_type": "markdown",
   "metadata": {},
   "source": [
    "## Mesure du temps de vol - Test\n",
    "\n",
    "Incidence normale, mode transmission\n",
    "\n",
    "Temps mesuré entre 2 pics (un aller retour)"
   ]
  },
  {
   "cell_type": "code",
   "execution_count": 17,
   "metadata": {
    "collapsed": false
   },
   "outputs": [
    {
     "name": "stdout",
     "output_type": "stream",
     "text": [
      "0.04386369543099718\n"
     ]
    }
   ],
   "source": [
    "temps_mesure = 6.8e-6;\n",
    "\n",
    "print(alu.vL*temps_mesure)"
   ]
  },
  {
   "cell_type": "markdown",
   "metadata": {
    "collapsed": true
   },
   "source": [
    "## Angles - Distance"
   ]
  },
  {
   "cell_type": "code",
   "execution_count": 28,
   "metadata": {
    "collapsed": false
   },
   "outputs": [
    {
     "ename": "ValueError",
     "evalue": "math domain error",
     "output_type": "error",
     "traceback": [
      "\u001b[1;31m---------------------------------------------------------------------------\u001b[0m",
      "\u001b[1;31mValueError\u001b[0m                                Traceback (most recent call last)",
      "\u001b[1;32m<ipython-input-28-8fd0a7393c47>\u001b[0m in \u001b[0;36m<module>\u001b[1;34m()\u001b[0m\n\u001b[1;32m----> 1\u001b[1;33m \u001b[0mthetaRL\u001b[0m \u001b[1;33m=\u001b[0m \u001b[1;33m{\u001b[0m\u001b[0mstr\u001b[0m\u001b[1;33m(\u001b[0m\u001b[1;36m10\u001b[0m\u001b[1;33m*\u001b[0m\u001b[0m_\u001b[0m\u001b[1;33m)\u001b[0m\u001b[1;33m:\u001b[0m\u001b[0mtodeg\u001b[0m\u001b[1;33m(\u001b[0m\u001b[0masin\u001b[0m\u001b[1;33m(\u001b[0m\u001b[0malu\u001b[0m\u001b[1;33m.\u001b[0m\u001b[0mvL\u001b[0m\u001b[1;33m/\u001b[0m\u001b[0mplexi\u001b[0m\u001b[1;33m[\u001b[0m\u001b[1;34m'vL'\u001b[0m\u001b[1;33m]\u001b[0m\u001b[1;33m*\u001b[0m\u001b[0msin\u001b[0m\u001b[1;33m(\u001b[0m\u001b[0mtorad\u001b[0m\u001b[1;33m(\u001b[0m\u001b[0m_\u001b[0m\u001b[1;33m*\u001b[0m\u001b[1;36m10\u001b[0m\u001b[1;33m)\u001b[0m\u001b[1;33m)\u001b[0m\u001b[1;33m)\u001b[0m\u001b[1;33m%\u001b[0m\u001b[1;33m(\u001b[0m\u001b[1;36m2\u001b[0m\u001b[1;33m*\u001b[0m\u001b[0mpi\u001b[0m\u001b[1;33m)\u001b[0m\u001b[1;33m)\u001b[0m \u001b[1;32mfor\u001b[0m \u001b[0m_\u001b[0m \u001b[1;32min\u001b[0m  \u001b[0mrange\u001b[0m\u001b[1;33m(\u001b[0m\u001b[1;36m10\u001b[0m\u001b[1;33m)\u001b[0m\u001b[1;33m}\u001b[0m\u001b[1;33m\u001b[0m\u001b[0m\n\u001b[0m",
      "\u001b[1;32m<ipython-input-28-8fd0a7393c47>\u001b[0m in \u001b[0;36m<dictcomp>\u001b[1;34m(.0)\u001b[0m\n\u001b[1;32m----> 1\u001b[1;33m \u001b[0mthetaRL\u001b[0m \u001b[1;33m=\u001b[0m \u001b[1;33m{\u001b[0m\u001b[0mstr\u001b[0m\u001b[1;33m(\u001b[0m\u001b[1;36m10\u001b[0m\u001b[1;33m*\u001b[0m\u001b[0m_\u001b[0m\u001b[1;33m)\u001b[0m\u001b[1;33m:\u001b[0m\u001b[0mtodeg\u001b[0m\u001b[1;33m(\u001b[0m\u001b[0masin\u001b[0m\u001b[1;33m(\u001b[0m\u001b[0malu\u001b[0m\u001b[1;33m.\u001b[0m\u001b[0mvL\u001b[0m\u001b[1;33m/\u001b[0m\u001b[0mplexi\u001b[0m\u001b[1;33m[\u001b[0m\u001b[1;34m'vL'\u001b[0m\u001b[1;33m]\u001b[0m\u001b[1;33m*\u001b[0m\u001b[0msin\u001b[0m\u001b[1;33m(\u001b[0m\u001b[0mtorad\u001b[0m\u001b[1;33m(\u001b[0m\u001b[0m_\u001b[0m\u001b[1;33m*\u001b[0m\u001b[1;36m10\u001b[0m\u001b[1;33m)\u001b[0m\u001b[1;33m)\u001b[0m\u001b[1;33m)\u001b[0m\u001b[1;33m%\u001b[0m\u001b[1;33m(\u001b[0m\u001b[1;36m2\u001b[0m\u001b[1;33m*\u001b[0m\u001b[0mpi\u001b[0m\u001b[1;33m)\u001b[0m\u001b[1;33m)\u001b[0m \u001b[1;32mfor\u001b[0m \u001b[0m_\u001b[0m \u001b[1;32min\u001b[0m  \u001b[0mrange\u001b[0m\u001b[1;33m(\u001b[0m\u001b[1;36m10\u001b[0m\u001b[1;33m)\u001b[0m\u001b[1;33m}\u001b[0m\u001b[1;33m\u001b[0m\u001b[0m\n\u001b[0m",
      "\u001b[1;31mValueError\u001b[0m: math domain error"
     ]
    }
   ],
   "source": [
    "thetaRL = {str(10*_):todeg(asin(alu.vL/plexi['vL']*sin(torad(_*10)))%(2*pi)) for _ in  range(10)}"
   ]
  },
  {
   "cell_type": "code",
   "execution_count": 21,
   "metadata": {
    "collapsed": false
   },
   "outputs": [
    {
     "ename": "ValueError",
     "evalue": "math domain error",
     "output_type": "error",
     "traceback": [
      "\u001b[1;31m---------------------------------------------------------------------------\u001b[0m",
      "\u001b[1;31mValueError\u001b[0m                                Traceback (most recent call last)",
      "\u001b[1;32m<ipython-input-21-6fda4067dd95>\u001b[0m in \u001b[0;36m<module>\u001b[1;34m()\u001b[0m\n\u001b[0;32m      1\u001b[0m \u001b[0m_\u001b[0m \u001b[1;33m=\u001b[0m \u001b[1;36m7\u001b[0m\u001b[1;33m\u001b[0m\u001b[0m\n\u001b[1;32m----> 2\u001b[1;33m \u001b[0mtodeg\u001b[0m\u001b[1;33m(\u001b[0m\u001b[0masin\u001b[0m\u001b[1;33m(\u001b[0m\u001b[0malu\u001b[0m\u001b[1;33m.\u001b[0m\u001b[0mvL\u001b[0m\u001b[1;33m/\u001b[0m\u001b[0mplexi\u001b[0m\u001b[1;33m[\u001b[0m\u001b[1;34m'vL'\u001b[0m\u001b[1;33m]\u001b[0m\u001b[1;33m*\u001b[0m\u001b[0msin\u001b[0m\u001b[1;33m(\u001b[0m\u001b[0mtorad\u001b[0m\u001b[1;33m(\u001b[0m\u001b[0m_\u001b[0m\u001b[1;33m*\u001b[0m\u001b[1;36m10\u001b[0m\u001b[1;33m)\u001b[0m\u001b[1;33m)\u001b[0m\u001b[1;33m)\u001b[0m\u001b[1;33m)\u001b[0m\u001b[1;33m\u001b[0m\u001b[0m\n\u001b[0m",
      "\u001b[1;31mValueError\u001b[0m: math domain error"
     ]
    }
   ],
   "source": [
    "_ = 7\n",
    "todeg(asin(alu.vL/plexi['vL']*sin(torad(_*10))))"
   ]
  },
  {
   "cell_type": "code",
   "execution_count": 30,
   "metadata": {
    "collapsed": false
   },
   "outputs": [
    {
     "ename": "ValueError",
     "evalue": "math domain error",
     "output_type": "error",
     "traceback": [
      "\u001b[1;31m---------------------------------------------------------------------------\u001b[0m",
      "\u001b[1;31mValueError\u001b[0m                                Traceback (most recent call last)",
      "\u001b[1;32m<ipython-input-30-d8032aef5fba>\u001b[0m in \u001b[0;36m<module>\u001b[1;34m()\u001b[0m\n\u001b[0;32m      1\u001b[0m \u001b[0m_\u001b[0m \u001b[1;33m=\u001b[0m \u001b[1;36m7\u001b[0m\u001b[1;33m\u001b[0m\u001b[0m\n\u001b[1;32m----> 2\u001b[1;33m \u001b[0masin\u001b[0m\u001b[1;33m(\u001b[0m\u001b[0malu\u001b[0m\u001b[1;33m.\u001b[0m\u001b[0mvL\u001b[0m\u001b[1;33m/\u001b[0m\u001b[0mplexi\u001b[0m\u001b[1;33m[\u001b[0m\u001b[1;34m'vL'\u001b[0m\u001b[1;33m]\u001b[0m\u001b[1;33m*\u001b[0m\u001b[0msin\u001b[0m\u001b[1;33m(\u001b[0m\u001b[0mtorad\u001b[0m\u001b[1;33m(\u001b[0m\u001b[0m_\u001b[0m\u001b[1;33m*\u001b[0m\u001b[1;36m10\u001b[0m\u001b[1;33m)\u001b[0m\u001b[1;33m)\u001b[0m\u001b[1;33m%\u001b[0m\u001b[1;33m(\u001b[0m\u001b[1;36m2\u001b[0m\u001b[1;33m*\u001b[0m\u001b[0mpi\u001b[0m\u001b[1;33m)\u001b[0m\u001b[1;33m)\u001b[0m\u001b[1;33m\u001b[0m\u001b[0m\n\u001b[0m",
      "\u001b[1;31mValueError\u001b[0m: math domain error"
     ]
    }
   ],
   "source": [
    "_ = 7\n",
    "asin(alu.vL/plexi['vL']*sin(torad(_*10))%(2*pi))"
   ]
  },
  {
   "cell_type": "code",
   "execution_count": null,
   "metadata": {
    "collapsed": true
   },
   "outputs": [],
   "source": [
    "asin"
   ]
  }
 ],
 "metadata": {
  "kernelspec": {
   "display_name": "Python 3",
   "language": "python",
   "name": "python3"
  },
  "language_info": {
   "codemirror_mode": {
    "name": "ipython",
    "version": 3
   },
   "file_extension": ".py",
   "mimetype": "text/x-python",
   "name": "python",
   "nbconvert_exporter": "python",
   "pygments_lexer": "ipython3",
   "version": "3.5.1"
  }
 },
 "nbformat": 4,
 "nbformat_minor": 0
}
